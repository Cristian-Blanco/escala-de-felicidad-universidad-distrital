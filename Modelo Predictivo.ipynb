{
 "cells": [
  {
   "cell_type": "markdown",
   "metadata": {},
   "source": [
    "# RandomForestClassifier y SVM"
   ]
  },
  {
   "cell_type": "code",
   "execution_count": 1,
   "metadata": {},
   "outputs": [],
   "source": [
    "import pandas as pd #obtencion y analisis de dataframe\n",
    "import matplotlib.pyplot as plt #graficos para el analisis\n",
    "import seaborn as sns #graficos de calor\n",
    "import warnings #Evita los errores\n",
    "warnings.filterwarnings('ignore')"
   ]
  },
  {
   "cell_type": "code",
   "execution_count": 2,
   "metadata": {},
   "outputs": [
    {
     "data": {
      "text/html": [
       "<div>\n",
       "<style scoped>\n",
       "    .dataframe tbody tr th:only-of-type {\n",
       "        vertical-align: middle;\n",
       "    }\n",
       "\n",
       "    .dataframe tbody tr th {\n",
       "        vertical-align: top;\n",
       "    }\n",
       "\n",
       "    .dataframe thead th {\n",
       "        text-align: right;\n",
       "    }\n",
       "</style>\n",
       "<table border=\"1\" class=\"dataframe\">\n",
       "  <thead>\n",
       "    <tr style=\"text-align: right;\">\n",
       "      <th></th>\n",
       "      <th>Programa</th>\n",
       "      <th>Numero_matricula</th>\n",
       "      <th>Sexo</th>\n",
       "      <th>Edad</th>\n",
       "      <th>Estado_civil</th>\n",
       "      <th>Valor_matrícula</th>\n",
       "      <th>Estrato</th>\n",
       "      <th>Ingreso_mensual</th>\n",
       "      <th>Trabajo</th>\n",
       "      <th>Educacion_padre</th>\n",
       "      <th>Educacion_madre</th>\n",
       "      <th>Ocupacion_madre</th>\n",
       "      <th>Ocupacion_padre</th>\n",
       "      <th>Pregunta1</th>\n",
       "      <th>Pregunta2</th>\n",
       "      <th>Pregunta3</th>\n",
       "      <th>Pregunta4</th>\n",
       "      <th>Pregunta5</th>\n",
       "      <th>Total</th>\n",
       "      <th>Rango_SWLS</th>\n",
       "    </tr>\n",
       "  </thead>\n",
       "  <tbody>\n",
       "    <tr>\n",
       "      <th>0</th>\n",
       "      <td>ingenieria catastral</td>\n",
       "      <td>4</td>\n",
       "      <td>1</td>\n",
       "      <td>19</td>\n",
       "      <td>1</td>\n",
       "      <td>2</td>\n",
       "      <td>4</td>\n",
       "      <td>5</td>\n",
       "      <td>1</td>\n",
       "      <td>9</td>\n",
       "      <td>9</td>\n",
       "      <td>8</td>\n",
       "      <td>9</td>\n",
       "      <td>6</td>\n",
       "      <td>7</td>\n",
       "      <td>6</td>\n",
       "      <td>7</td>\n",
       "      <td>7</td>\n",
       "      <td>33</td>\n",
       "      <td>6</td>\n",
       "    </tr>\n",
       "    <tr>\n",
       "      <th>1</th>\n",
       "      <td>ingenieria de sistemas</td>\n",
       "      <td>10</td>\n",
       "      <td>2</td>\n",
       "      <td>23</td>\n",
       "      <td>1</td>\n",
       "      <td>1</td>\n",
       "      <td>4</td>\n",
       "      <td>4</td>\n",
       "      <td>2</td>\n",
       "      <td>7</td>\n",
       "      <td>8</td>\n",
       "      <td>7</td>\n",
       "      <td>8</td>\n",
       "      <td>6</td>\n",
       "      <td>7</td>\n",
       "      <td>5</td>\n",
       "      <td>6</td>\n",
       "      <td>5</td>\n",
       "      <td>29</td>\n",
       "      <td>5</td>\n",
       "    </tr>\n",
       "    <tr>\n",
       "      <th>2</th>\n",
       "      <td>ingenieria de sistemas</td>\n",
       "      <td>7</td>\n",
       "      <td>2</td>\n",
       "      <td>21</td>\n",
       "      <td>1</td>\n",
       "      <td>2</td>\n",
       "      <td>3</td>\n",
       "      <td>4</td>\n",
       "      <td>1</td>\n",
       "      <td>8</td>\n",
       "      <td>9</td>\n",
       "      <td>6</td>\n",
       "      <td>9</td>\n",
       "      <td>5</td>\n",
       "      <td>6</td>\n",
       "      <td>7</td>\n",
       "      <td>6</td>\n",
       "      <td>6</td>\n",
       "      <td>30</td>\n",
       "      <td>6</td>\n",
       "    </tr>\n",
       "    <tr>\n",
       "      <th>3</th>\n",
       "      <td>ingenieria de sistemas</td>\n",
       "      <td>4</td>\n",
       "      <td>1</td>\n",
       "      <td>19</td>\n",
       "      <td>1</td>\n",
       "      <td>4</td>\n",
       "      <td>2</td>\n",
       "      <td>2</td>\n",
       "      <td>1</td>\n",
       "      <td>4</td>\n",
       "      <td>4</td>\n",
       "      <td>3</td>\n",
       "      <td>7</td>\n",
       "      <td>2</td>\n",
       "      <td>3</td>\n",
       "      <td>3</td>\n",
       "      <td>4</td>\n",
       "      <td>2</td>\n",
       "      <td>14</td>\n",
       "      <td>2</td>\n",
       "    </tr>\n",
       "    <tr>\n",
       "      <th>4</th>\n",
       "      <td>ingenieria electrica</td>\n",
       "      <td>3</td>\n",
       "      <td>1</td>\n",
       "      <td>19</td>\n",
       "      <td>1</td>\n",
       "      <td>1</td>\n",
       "      <td>5</td>\n",
       "      <td>6</td>\n",
       "      <td>2</td>\n",
       "      <td>9</td>\n",
       "      <td>10</td>\n",
       "      <td>9</td>\n",
       "      <td>8</td>\n",
       "      <td>6</td>\n",
       "      <td>6</td>\n",
       "      <td>7</td>\n",
       "      <td>7</td>\n",
       "      <td>7</td>\n",
       "      <td>33</td>\n",
       "      <td>6</td>\n",
       "    </tr>\n",
       "  </tbody>\n",
       "</table>\n",
       "</div>"
      ],
      "text/plain": [
       "                  Programa  Numero_matricula  Sexo  Edad  Estado_civil  \\\n",
       "0     ingenieria catastral                 4     1    19             1   \n",
       "1  ingenieria de sistemas                 10     2    23             1   \n",
       "2   ingenieria de sistemas                 7     2    21             1   \n",
       "3   ingenieria de sistemas                 4     1    19             1   \n",
       "4     ingenieria electrica                 3     1    19             1   \n",
       "\n",
       "   Valor_matrícula  Estrato  Ingreso_mensual  Trabajo  Educacion_padre  \\\n",
       "0                2        4                5        1                9   \n",
       "1                1        4                4        2                7   \n",
       "2                2        3                4        1                8   \n",
       "3                4        2                2        1                4   \n",
       "4                1        5                6        2                9   \n",
       "\n",
       "   Educacion_madre  Ocupacion_madre  Ocupacion_padre  Pregunta1  Pregunta2  \\\n",
       "0                9                8                9          6          7   \n",
       "1                8                7                8          6          7   \n",
       "2                9                6                9          5          6   \n",
       "3                4                3                7          2          3   \n",
       "4               10                9                8          6          6   \n",
       "\n",
       "   Pregunta3  Pregunta4  Pregunta5  Total  Rango_SWLS  \n",
       "0          6          7          7     33           6  \n",
       "1          5          6          5     29           5  \n",
       "2          7          6          6     30           6  \n",
       "3          3          4          2     14           2  \n",
       "4          7          7          7     33           6  "
      ]
     },
     "execution_count": 2,
     "metadata": {},
     "output_type": "execute_result"
    }
   ],
   "source": [
    "data = pd.read_csv('Bienestar_estudiantil.csv')#Leemos el dataset para realizar el modelo\n",
    "data.head() #Mostramos las 5 primeras filas del dataset"
   ]
  },
  {
   "cell_type": "markdown",
   "metadata": {},
   "source": [
    "Con base a la correlación de variables, se omitiran aquellas columnas que no infieren en el resultado para entrenar el modelo.\n",
    "#### Variables que NO se utilizaran\n",
    "    1.Programa_Academico\n",
    "    2.Sexo\n",
    "    3.Pregunta1\n",
    "    4.Pregunta2\n",
    "    5.Pregunta3\n",
    "    6.Pregunta4\n",
    "    7.Pregunta5\n",
    "    8.Suma_Total"
   ]
  },
  {
   "cell_type": "code",
   "execution_count": 3,
   "metadata": {},
   "outputs": [
    {
     "name": "stdout",
     "output_type": "stream",
     "text": [
      "<class 'pandas.core.frame.DataFrame'>\n",
      "RangeIndex: 709 entries, 0 to 708\n",
      "Data columns (total 20 columns):\n",
      " #   Column            Non-Null Count  Dtype \n",
      "---  ------            --------------  ----- \n",
      " 0   Programa          709 non-null    object\n",
      " 1   Numero_matricula  709 non-null    int64 \n",
      " 2   Sexo              709 non-null    int64 \n",
      " 3   Edad              709 non-null    int64 \n",
      " 4   Estado_civil      709 non-null    int64 \n",
      " 5   Valor_matrícula   709 non-null    int64 \n",
      " 6   Estrato           709 non-null    int64 \n",
      " 7   Ingreso_mensual   709 non-null    int64 \n",
      " 8   Trabajo           709 non-null    int64 \n",
      " 9   Educacion_padre   709 non-null    int64 \n",
      " 10  Educacion_madre   709 non-null    int64 \n",
      " 11  Ocupacion_madre   709 non-null    int64 \n",
      " 12  Ocupacion_padre   709 non-null    int64 \n",
      " 13  Pregunta1         709 non-null    int64 \n",
      " 14  Pregunta2         709 non-null    int64 \n",
      " 15  Pregunta3         709 non-null    int64 \n",
      " 16  Pregunta4         709 non-null    int64 \n",
      " 17  Pregunta5         709 non-null    int64 \n",
      " 18  Total             709 non-null    int64 \n",
      " 19  Rango_SWLS        709 non-null    int64 \n",
      "dtypes: int64(19), object(1)\n",
      "memory usage: 110.9+ KB\n"
     ]
    }
   ],
   "source": [
    "data.info() #Vemos la informacion del dataset, como la cantidad de variables y el numero de filas"
   ]
  },
  {
   "cell_type": "code",
   "execution_count": 4,
   "metadata": {},
   "outputs": [],
   "source": [
    "#Eliminamos las variables que no se utilizaran para el modelo predictivo\n",
    "TrueData = data.drop(['Programa','Sexo', 'Pregunta1', 'Pregunta2', 'Pregunta3', 'Pregunta4', 'Pregunta5', 'Total'], axis='columns')"
   ]
  },
  {
   "cell_type": "code",
   "execution_count": 5,
   "metadata": {},
   "outputs": [
    {
     "data": {
      "text/html": [
       "<div>\n",
       "<style scoped>\n",
       "    .dataframe tbody tr th:only-of-type {\n",
       "        vertical-align: middle;\n",
       "    }\n",
       "\n",
       "    .dataframe tbody tr th {\n",
       "        vertical-align: top;\n",
       "    }\n",
       "\n",
       "    .dataframe thead th {\n",
       "        text-align: right;\n",
       "    }\n",
       "</style>\n",
       "<table border=\"1\" class=\"dataframe\">\n",
       "  <thead>\n",
       "    <tr style=\"text-align: right;\">\n",
       "      <th></th>\n",
       "      <th>Numero_matricula</th>\n",
       "      <th>Edad</th>\n",
       "      <th>Estado_civil</th>\n",
       "      <th>Valor_matrícula</th>\n",
       "      <th>Estrato</th>\n",
       "      <th>Ingreso_mensual</th>\n",
       "      <th>Trabajo</th>\n",
       "      <th>Educacion_padre</th>\n",
       "      <th>Educacion_madre</th>\n",
       "      <th>Ocupacion_madre</th>\n",
       "      <th>Ocupacion_padre</th>\n",
       "      <th>Rango_SWLS</th>\n",
       "    </tr>\n",
       "  </thead>\n",
       "  <tbody>\n",
       "    <tr>\n",
       "      <th>0</th>\n",
       "      <td>4</td>\n",
       "      <td>19</td>\n",
       "      <td>1</td>\n",
       "      <td>2</td>\n",
       "      <td>4</td>\n",
       "      <td>5</td>\n",
       "      <td>1</td>\n",
       "      <td>9</td>\n",
       "      <td>9</td>\n",
       "      <td>8</td>\n",
       "      <td>9</td>\n",
       "      <td>6</td>\n",
       "    </tr>\n",
       "    <tr>\n",
       "      <th>1</th>\n",
       "      <td>10</td>\n",
       "      <td>23</td>\n",
       "      <td>1</td>\n",
       "      <td>1</td>\n",
       "      <td>4</td>\n",
       "      <td>4</td>\n",
       "      <td>2</td>\n",
       "      <td>7</td>\n",
       "      <td>8</td>\n",
       "      <td>7</td>\n",
       "      <td>8</td>\n",
       "      <td>5</td>\n",
       "    </tr>\n",
       "    <tr>\n",
       "      <th>2</th>\n",
       "      <td>7</td>\n",
       "      <td>21</td>\n",
       "      <td>1</td>\n",
       "      <td>2</td>\n",
       "      <td>3</td>\n",
       "      <td>4</td>\n",
       "      <td>1</td>\n",
       "      <td>8</td>\n",
       "      <td>9</td>\n",
       "      <td>6</td>\n",
       "      <td>9</td>\n",
       "      <td>6</td>\n",
       "    </tr>\n",
       "    <tr>\n",
       "      <th>3</th>\n",
       "      <td>4</td>\n",
       "      <td>19</td>\n",
       "      <td>1</td>\n",
       "      <td>4</td>\n",
       "      <td>2</td>\n",
       "      <td>2</td>\n",
       "      <td>1</td>\n",
       "      <td>4</td>\n",
       "      <td>4</td>\n",
       "      <td>3</td>\n",
       "      <td>7</td>\n",
       "      <td>2</td>\n",
       "    </tr>\n",
       "    <tr>\n",
       "      <th>4</th>\n",
       "      <td>3</td>\n",
       "      <td>19</td>\n",
       "      <td>1</td>\n",
       "      <td>1</td>\n",
       "      <td>5</td>\n",
       "      <td>6</td>\n",
       "      <td>2</td>\n",
       "      <td>9</td>\n",
       "      <td>10</td>\n",
       "      <td>9</td>\n",
       "      <td>8</td>\n",
       "      <td>6</td>\n",
       "    </tr>\n",
       "  </tbody>\n",
       "</table>\n",
       "</div>"
      ],
      "text/plain": [
       "   Numero_matricula  Edad  Estado_civil  Valor_matrícula  Estrato  \\\n",
       "0                 4    19             1                2        4   \n",
       "1                10    23             1                1        4   \n",
       "2                 7    21             1                2        3   \n",
       "3                 4    19             1                4        2   \n",
       "4                 3    19             1                1        5   \n",
       "\n",
       "   Ingreso_mensual  Trabajo  Educacion_padre  Educacion_madre  \\\n",
       "0                5        1                9                9   \n",
       "1                4        2                7                8   \n",
       "2                4        1                8                9   \n",
       "3                2        1                4                4   \n",
       "4                6        2                9               10   \n",
       "\n",
       "   Ocupacion_madre  Ocupacion_padre  Rango_SWLS  \n",
       "0                8                9           6  \n",
       "1                7                8           5  \n",
       "2                6                9           6  \n",
       "3                3                7           2  \n",
       "4                9                8           6  "
      ]
     },
     "execution_count": 5,
     "metadata": {},
     "output_type": "execute_result"
    }
   ],
   "source": [
    "TrueData.head() #Mostramos las primeras 5 filas de el dataset actualizado"
   ]
  },
  {
   "cell_type": "markdown",
   "metadata": {},
   "source": [
    "Tenemos el dataset con las variables que mas infieren con el resultado, ahora miraremos la cantidad de resultados para categoria en el \"Rango_SWLS\""
   ]
  },
  {
   "cell_type": "code",
   "execution_count": 6,
   "metadata": {},
   "outputs": [],
   "source": [
    "#Para saber que cantidad tuvo cada rango, realizamos lo siguiente.\n",
    "one = TrueData.Rango_SWLS[TrueData.Rango_SWLS == 1].count()\n",
    "two = TrueData.Rango_SWLS[TrueData.Rango_SWLS == 2].count()\n",
    "three = TrueData.Rango_SWLS[TrueData.Rango_SWLS == 3].count()\n",
    "four = TrueData.Rango_SWLS[TrueData.Rango_SWLS == 4].count()\n",
    "five = TrueData.Rango_SWLS[TrueData.Rango_SWLS == 5].count()\n",
    "six = TrueData.Rango_SWLS[TrueData.Rango_SWLS == 6].count()"
   ]
  },
  {
   "cell_type": "code",
   "execution_count": 7,
   "metadata": {},
   "outputs": [
    {
     "data": {
      "text/plain": [
       "(22, 61, 129, 145, 191, 161)"
      ]
     },
     "execution_count": 7,
     "metadata": {},
     "output_type": "execute_result"
    }
   ],
   "source": [
    "one, two, three, four, five, six #cantidad de datos para cada rango que analizara el modelo"
   ]
  },
  {
   "cell_type": "markdown",
   "metadata": {},
   "source": [
    "## Creación del Modelo"
   ]
  },
  {
   "cell_type": "markdown",
   "metadata": {},
   "source": [
    "Para crear el modelo predictivo es de necesidad partir la cantidad del dataseet, una parte de este dataset sera el que va evaluar el modelo creado."
   ]
  },
  {
   "cell_type": "code",
   "execution_count": 8,
   "metadata": {},
   "outputs": [],
   "source": [
    "#importamos de sklear train_test_split para divir el dataseet en una cantidad de entrenamiento y \n",
    "#otra de testeo. la cantidad de testeo sera del 30%\n",
    "from sklearn.model_selection import train_test_split \n",
    "X_train, X_test, y_train, y_test = train_test_split(TrueData.drop(['Rango_SWLS'], axis='columns'), TrueData.Rango_SWLS, test_size=0.3)"
   ]
  },
  {
   "cell_type": "markdown",
   "metadata": {},
   "source": [
    "### Random Forest Classifier"
   ]
  },
  {
   "cell_type": "code",
   "execution_count": 9,
   "metadata": {
    "scrolled": true
   },
   "outputs": [
    {
     "data": {
      "text/plain": [
       "RandomForestClassifier(n_estimators=10)"
      ]
     },
     "execution_count": 9,
     "metadata": {},
     "output_type": "execute_result"
    }
   ],
   "source": [
    "#Importamos de sklearn el algoritmo de Random Forest Classifier\n",
    "from sklearn.ensemble import RandomForestClassifier \n",
    "model = RandomForestClassifier(n_estimators=10)\n",
    "model.fit(X_train, y_train)#Entrenamos nuestro modelo con las variables x, y de entrenamiento"
   ]
  },
  {
   "cell_type": "code",
   "execution_count": 10,
   "metadata": {},
   "outputs": [
    {
     "data": {
      "text/plain": [
       "0.8826291079812206"
      ]
     },
     "execution_count": 10,
     "metadata": {},
     "output_type": "execute_result"
    }
   ],
   "source": [
    "model.score(X_test, y_test)#Nos da un porcentaje de precision que tuvo el modelo creado"
   ]
  },
  {
   "cell_type": "markdown",
   "metadata": {},
   "source": [
    "### SVM"
   ]
  },
  {
   "cell_type": "code",
   "execution_count": 11,
   "metadata": {},
   "outputs": [
    {
     "data": {
      "text/plain": [
       "SVC()"
      ]
     },
     "execution_count": 11,
     "metadata": {},
     "output_type": "execute_result"
    }
   ],
   "source": [
    "from sklearn.svm import SVC #Importamos de sklearn la maquina de vectores de soporte\n",
    "svm_model = SVC() #creamos el algoritmo para el modelo\n",
    "svm_model.fit(X_train, y_train) #entrenamos el modelo con la particion correspondiente"
   ]
  },
  {
   "cell_type": "code",
   "execution_count": 12,
   "metadata": {},
   "outputs": [
    {
     "data": {
      "text/plain": [
       "0.8028169014084507"
      ]
     },
     "execution_count": 12,
     "metadata": {},
     "output_type": "execute_result"
    }
   ],
   "source": [
    "svm_model.score(X_test, y_test)"
   ]
  },
  {
   "cell_type": "markdown",
   "metadata": {},
   "source": [
    "## Matriz de Confusion\n",
    "Para describir el desempeño de los modelos de clasificación por clases, creamos la matriz de confusión. En particular, esta matriz representó el poder predictivo del clasificador RandomForestClassifier. Desde este punto de vista, los valores de la diagonal principal representan el grado de clases correctamente predichas."
   ]
  },
  {
   "cell_type": "code",
   "execution_count": 13,
   "metadata": {},
   "outputs": [],
   "source": [
    "y_predicted = model.predict(X_test) #Para realizar un grafico necesitamos las filas que se predijeron"
   ]
  },
  {
   "cell_type": "code",
   "execution_count": 14,
   "metadata": {},
   "outputs": [
    {
     "data": {
      "text/plain": [
       "Text(69.0, 0.5, 'Verdadero')"
      ]
     },
     "execution_count": 14,
     "metadata": {},
     "output_type": "execute_result"
    },
    {
     "data": {
      "image/png": "[encoded data removed]",
      "text/plain": [
       "<Figure size 720x504 with 2 Axes>"
      ]
     },
     "metadata": {
      "needs_background": "light"
     },
     "output_type": "display_data"
    }
   ],
   "source": [
    "from sklearn.metrics import confusion_matrix #Importamos la matriz de confusion de sklearn\n",
    "cm = confusion_matrix(y_test, y_predicted)#le pasamos los parametros a la matriz de confusion para futuro grafico\n",
    "\n",
    "%matplotlib inline\n",
    "\n",
    "plt.figure(figsize=(10,7)) #Establecemos el tamaño de el grafico\n",
    "sns.heatmap(cm, \n",
    "            xticklabels = ['1','2','3','4','5','6'],\n",
    "            yticklabels = ['1','2','3','4','5','6'],\n",
    "            annot=True)#Generamos nuestro grafico con base a la informacion anterior\n",
    "plt.xlabel('Prediccion')#El eje x seran los valores que se predijeron en el modelo\n",
    "plt.ylabel('Verdadero') #El eje y seran los valores verdaderos del dataset 014"
   ]
  },
  {
   "cell_type": "markdown",
   "metadata": {},
   "source": [
    "Como se puede observar, donde más tuvo desfases en la predicción, fue en el rango de SWL"
   ]
  },
  {
   "cell_type": "markdown",
   "metadata": {},
   "source": [
    "## Puntaje de clasificación de precisión\n",
    "el conjunto de etiquetas predichas para una muestra debe coincidir exactamente con el conjunto de etiquetas correspondiente en y_true. Para ello calculamos la estabilidad del puntaje obtenido en el score, asi garantizamos el valor otorgado."
   ]
  },
  {
   "cell_type": "code",
   "execution_count": 15,
   "metadata": {},
   "outputs": [
    {
     "data": {
      "text/plain": [
       "0.8826291079812206"
      ]
     },
     "execution_count": 15,
     "metadata": {},
     "output_type": "execute_result"
    }
   ],
   "source": [
    "from sklearn.metrics import accuracy_score\n",
    "accuracy_score(y_test, y_predicted)#------"
   ]
  },
  {
   "cell_type": "markdown",
   "metadata": {},
   "source": [
    "La porcentaje de precision es acorde a lo obtenido anteriormente, por ende garantizamos que la precision de nuestro modelo es del 86,85%"
   ]
  },
  {
   "cell_type": "code",
   "execution_count": null,
   "metadata": {},
   "outputs": [],
   "source": []
  }
 ],
 "metadata": {
  "kernelspec": {
   "display_name": "Python 3 (ipykernel)",
   "language": "python",
   "name": "python3"
  },
  "language_info": {
   "codemirror_mode": {
    "name": "ipython",
    "version": 3
   },
   "file_extension": ".py",
   "mimetype": "text/x-python",
   "name": "python",
   "nbconvert_exporter": "python",
   "pygments_lexer": "ipython3",
   "version": "3.8.10"
  }
 },
 "nbformat": 4,
 "nbformat_minor": 2
}
